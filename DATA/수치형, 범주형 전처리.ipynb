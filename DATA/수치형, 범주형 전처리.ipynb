{
 "cells": [
  {
   "cell_type": "markdown",
   "metadata": {},
   "source": [
    "### Import"
   ]
  },
  {
   "cell_type": "code",
   "execution_count": 1,
   "metadata": {},
   "outputs": [],
   "source": [
    "import pandas as pd\n",
    "import numpy as np"
   ]
  },
  {
   "cell_type": "markdown",
   "metadata": {},
   "source": [
    "### Data Load"
   ]
  },
  {
   "cell_type": "code",
   "execution_count": 4,
   "metadata": {},
   "outputs": [],
   "source": [
    "train = pd.read_csv('./RAWDATA/train.csv').drop(columns=['ID'])\n",
    "test = pd.read_csv('./RAWDATA/test.csv').drop(columns=['ID'])"
   ]
  },
  {
   "cell_type": "code",
   "execution_count": 5,
   "metadata": {},
   "outputs": [],
   "source": [
    "X_train = train.drop('임신 성공 여부', axis=1)\n",
    "y_train = train['임신 성공 여부']"
   ]
  },
  {
   "cell_type": "code",
   "execution_count": 6,
   "metadata": {},
   "outputs": [],
   "source": [
    "# '''\n",
    "#     TODO : y_train 값 분포 비율\n",
    "# '''\n",
    "# import matplotlib.pyplot as plt\n",
    "# import seaborn as sns\n",
    "\n",
    "# plt.figure(figsize=(6,4))\n",
    "# sns.histplot(y_train, kde=True, bins=30, color='skyblue')\n",
    "# plt.title('y_train Distribution')\n",
    "# plt.xlabel('y_train')\n",
    "# plt.ylabel('Frequency')\n",
    "# plt.show()"
   ]
  },
  {
   "cell_type": "markdown",
   "metadata": {},
   "source": [
    "### Data Pre-processing"
   ]
  },
  {
   "cell_type": "code",
   "execution_count": 7,
   "metadata": {},
   "outputs": [],
   "source": [
    "'''\n",
    "    TODO : 수치형 데이터 구분\n",
    "'''\n",
    "numeric_columns = [\n",
    "    \"임신 시도 또는 마지막 임신 경과 연수\",\n",
    "    \"총 생성 배아 수\",\n",
    "    \"미세주입된 난자 수\",\n",
    "    \"미세주입에서 생성된 배아 수\",\n",
    "    \"이식된 배아 수\",\n",
    "    \"미세주입 배아 이식 수\",\n",
    "    \"저장된 배아 수\",\n",
    "    \"미세주입 후 저장된 배아 수\",\n",
    "    \"해동된 배아 수\",\n",
    "    \"해동 난자 수\",\n",
    "    \"수집된 신선 난자 수\",\n",
    "    \"저장된 신선 난자 수\",\n",
    "    \"혼합된 난자 수\",\n",
    "    \"파트너 정자와 혼합된 난자 수\",\n",
    "    \"기증자 정자와 혼합된 난자 수\",\n",
    "    \"난자 채취 경과일\",\n",
    "    \"난자 해동 경과일\",\n",
    "    \"난자 혼합 경과일\",\n",
    "    \"배아 이식 경과일\",\n",
    "    \"배아 해동 경과일\"\n",
    "] # 20"
   ]
  },
  {
   "cell_type": "code",
   "execution_count": 8,
   "metadata": {},
   "outputs": [
    {
     "name": "stdout",
     "output_type": "stream",
     "text": [
      "246981\n",
      "6291\n",
      "6291\n",
      "6291\n",
      "6291\n",
      "6291\n",
      "6291\n",
      "6291\n",
      "6291\n",
      "6291\n",
      "6291\n",
      "6291\n",
      "6291\n",
      "6291\n",
      "6291\n",
      "57488\n",
      "254915\n",
      "53735\n",
      "43566\n",
      "215982\n",
      "['임신 시도 또는 마지막 임신 경과 연수', '총 생성 배아 수', '미세주입된 난자 수', '미세주입에서 생성된 배아 수', '이식된 배아 수', '미세주입 배아 이식 수', '저장된 배아 수', '미세주입 후 저장된 배아 수', '해동된 배아 수', '해동 난자 수', '수집된 신선 난자 수', '저장된 신선 난자 수', '혼합된 난자 수', '파트너 정자와 혼합된 난자 수', '기증자 정자와 혼합된 난자 수', '난자 채취 경과일', '난자 해동 경과일', '난자 혼합 경과일', '배아 이식 경과일', '배아 해동 경과일']\n"
     ]
    }
   ],
   "source": [
    "'''\n",
    "    TODO : 수치형 데이터 null 값 확인\n",
    "'''\n",
    "for col in numeric_columns:\n",
    "    print(X_train[col].isnull().sum())\n",
    "numeric_null_columns = [ col for col in numeric_columns if X_train[col].isnull().sum() != 0 ]\n",
    "print(numeric_null_columns)"
   ]
  },
  {
   "cell_type": "code",
   "execution_count": 9,
   "metadata": {},
   "outputs": [
    {
     "name": "stdout",
     "output_type": "stream",
     "text": [
      "난자 해동 경과일                0.994398\n",
      "임신 시도 또는 마지막 임신 경과 연수    0.963449\n",
      "배아 해동 경과일                0.842525\n",
      "난자 채취 경과일                0.224255\n",
      "난자 혼합 경과일                0.209615\n",
      "배아 이식 경과일                0.169947\n",
      "미세주입에서 생성된 배아 수          0.024541\n",
      "혼합된 난자 수                 0.024541\n",
      "미세주입된 난자 수               0.024541\n",
      "기증자 정자와 혼합된 난자 수         0.024541\n",
      "파트너 정자와 혼합된 난자 수         0.024541\n",
      "저장된 신선 난자 수              0.024541\n",
      "이식된 배아 수                 0.024541\n",
      "총 생성 배아 수                0.024541\n",
      "해동 난자 수                  0.024541\n",
      "해동된 배아 수                 0.024541\n",
      "미세주입 후 저장된 배아 수          0.024541\n",
      "저장된 배아 수                 0.024541\n",
      "미세주입 배아 이식 수             0.024541\n",
      "수집된 신선 난자 수              0.024541\n",
      "dtype: float64\n",
      "삭제된 칼럼: ['난자 해동 경과일', '임신 시도 또는 마지막 임신 경과 연수', '배아 해동 경과일']\n",
      "남은 numeric_columns: ['파트너 정자와 혼합된 난자 수', '저장된 배아 수', '난자 혼합 경과일', '혼합된 난자 수', '수집된 신선 난자 수', '미세주입에서 생성된 배아 수', '해동된 배아 수', '기증자 정자와 혼합된 난자 수', '이식된 배아 수', '미세주입된 난자 수', '난자 채취 경과일', '총 생성 배아 수', '배아 이식 경과일', '해동 난자 수', '미세주입 배아 이식 수', '저장된 신선 난자 수', '미세주입 후 저장된 배아 수']\n"
     ]
    }
   ],
   "source": [
    "'''\n",
    "    TODO : 수치형 데이터 결측치 처리 (drop)\n",
    "'''\n",
    "numeric_null_ratio = X_train[numeric_null_columns].isnull().mean().sort_values(ascending=False)\n",
    "print(numeric_null_ratio)\n",
    "\n",
    "drop_columns = numeric_null_ratio[numeric_null_ratio >= 0.8].index\n",
    "X_train = X_train.drop(columns=drop_columns)\n",
    "test = test.drop(columns=drop_columns)\n",
    "\n",
    "numeric_columns = list(set(numeric_columns) - set(drop_columns))\n",
    "print(f\"삭제된 칼럼: {list(drop_columns)}\")\n",
    "print(f\"남은 numeric_columns: {numeric_columns}\")"
   ]
  },
  {
   "cell_type": "code",
   "execution_count": 10,
   "metadata": {},
   "outputs": [
    {
     "ename": "KeyboardInterrupt",
     "evalue": "",
     "output_type": "error",
     "traceback": [
      "\u001b[0;31m---------------------------------------------------------------------------\u001b[0m",
      "\u001b[0;31mFileNotFoundError\u001b[0m                         Traceback (most recent call last)",
      "Cell \u001b[0;32mIn[10], line 10\u001b[0m\n\u001b[1;32m      9\u001b[0m \u001b[38;5;28;01mtry\u001b[39;00m:\n\u001b[0;32m---> 10\u001b[0m     X_train_imputed, test_imputed \u001b[38;5;241m=\u001b[39m \u001b[43mjoblib\u001b[49m\u001b[38;5;241;43m.\u001b[39;49m\u001b[43mload\u001b[49m\u001b[43m(\u001b[49m\u001b[43mimputer_cache_path\u001b[49m\u001b[43m)\u001b[49m\n\u001b[1;32m     11\u001b[0m     \u001b[38;5;28mprint\u001b[39m(\u001b[38;5;124m\"\u001b[39m\u001b[38;5;124mLoaded cached KNN imputed data.\u001b[39m\u001b[38;5;124m\"\u001b[39m)\n",
      "File \u001b[0;32m/opt/anaconda3/envs/catboost/lib/python3.13/site-packages/joblib/numpy_pickle.py:650\u001b[0m, in \u001b[0;36mload\u001b[0;34m(filename, mmap_mode)\u001b[0m\n\u001b[1;32m    649\u001b[0m \u001b[38;5;28;01melse\u001b[39;00m:\n\u001b[0;32m--> 650\u001b[0m     \u001b[38;5;28;01mwith\u001b[39;00m \u001b[38;5;28;43mopen\u001b[39;49m\u001b[43m(\u001b[49m\u001b[43mfilename\u001b[49m\u001b[43m,\u001b[49m\u001b[43m \u001b[49m\u001b[38;5;124;43m'\u001b[39;49m\u001b[38;5;124;43mrb\u001b[39;49m\u001b[38;5;124;43m'\u001b[39;49m\u001b[43m)\u001b[49m \u001b[38;5;28;01mas\u001b[39;00m f:\n\u001b[1;32m    651\u001b[0m         \u001b[38;5;28;01mwith\u001b[39;00m _read_fileobject(f, filename, mmap_mode) \u001b[38;5;28;01mas\u001b[39;00m fobj:\n",
      "\u001b[0;31mFileNotFoundError\u001b[0m: [Errno 2] No such file or directory: 'knn_imputed.pkl'",
      "\nDuring handling of the above exception, another exception occurred:\n",
      "\u001b[0;31mKeyboardInterrupt\u001b[0m                         Traceback (most recent call last)",
      "Cell \u001b[0;32mIn[10], line 20\u001b[0m\n\u001b[1;32m     17\u001b[0m X_train_imputed \u001b[38;5;241m=\u001b[39m X_train\u001b[38;5;241m.\u001b[39mcopy()\n\u001b[1;32m     18\u001b[0m test_imputed \u001b[38;5;241m=\u001b[39m test\u001b[38;5;241m.\u001b[39mcopy()\n\u001b[0;32m---> 20\u001b[0m X_train_imputed[numeric_filled_columns] \u001b[38;5;241m=\u001b[39m \u001b[43mknn_imputer\u001b[49m\u001b[38;5;241;43m.\u001b[39;49m\u001b[43mfit_transform\u001b[49m\u001b[43m(\u001b[49m\u001b[43mX_train\u001b[49m\u001b[43m[\u001b[49m\u001b[43mnumeric_filled_columns\u001b[49m\u001b[43m]\u001b[49m\u001b[43m)\u001b[49m\n\u001b[1;32m     21\u001b[0m \u001b[38;5;28mprint\u001b[39m(\u001b[38;5;124m\"\u001b[39m\u001b[38;5;124mX_train finish\u001b[39m\u001b[38;5;124m\"\u001b[39m)\n\u001b[1;32m     22\u001b[0m test_imputed[numeric_filled_columns] \u001b[38;5;241m=\u001b[39m knn_imputer\u001b[38;5;241m.\u001b[39mtransform(test[numeric_filled_columns])\n",
      "File \u001b[0;32m/opt/anaconda3/envs/catboost/lib/python3.13/site-packages/sklearn/utils/_set_output.py:319\u001b[0m, in \u001b[0;36m_wrap_method_output.<locals>.wrapped\u001b[0;34m(self, X, *args, **kwargs)\u001b[0m\n\u001b[1;32m    317\u001b[0m \u001b[38;5;129m@wraps\u001b[39m(f)\n\u001b[1;32m    318\u001b[0m \u001b[38;5;28;01mdef\u001b[39;00m\u001b[38;5;250m \u001b[39m\u001b[38;5;21mwrapped\u001b[39m(\u001b[38;5;28mself\u001b[39m, X, \u001b[38;5;241m*\u001b[39margs, \u001b[38;5;241m*\u001b[39m\u001b[38;5;241m*\u001b[39mkwargs):\n\u001b[0;32m--> 319\u001b[0m     data_to_wrap \u001b[38;5;241m=\u001b[39m \u001b[43mf\u001b[49m\u001b[43m(\u001b[49m\u001b[38;5;28;43mself\u001b[39;49m\u001b[43m,\u001b[49m\u001b[43m \u001b[49m\u001b[43mX\u001b[49m\u001b[43m,\u001b[49m\u001b[43m \u001b[49m\u001b[38;5;241;43m*\u001b[39;49m\u001b[43margs\u001b[49m\u001b[43m,\u001b[49m\u001b[43m \u001b[49m\u001b[38;5;241;43m*\u001b[39;49m\u001b[38;5;241;43m*\u001b[39;49m\u001b[43mkwargs\u001b[49m\u001b[43m)\u001b[49m\n\u001b[1;32m    320\u001b[0m     \u001b[38;5;28;01mif\u001b[39;00m \u001b[38;5;28misinstance\u001b[39m(data_to_wrap, \u001b[38;5;28mtuple\u001b[39m):\n\u001b[1;32m    321\u001b[0m         \u001b[38;5;66;03m# only wrap the first output for cross decomposition\u001b[39;00m\n\u001b[1;32m    322\u001b[0m         return_tuple \u001b[38;5;241m=\u001b[39m (\n\u001b[1;32m    323\u001b[0m             _wrap_data_with_container(method, data_to_wrap[\u001b[38;5;241m0\u001b[39m], X, \u001b[38;5;28mself\u001b[39m),\n\u001b[1;32m    324\u001b[0m             \u001b[38;5;241m*\u001b[39mdata_to_wrap[\u001b[38;5;241m1\u001b[39m:],\n\u001b[1;32m    325\u001b[0m         )\n",
      "File \u001b[0;32m/opt/anaconda3/envs/catboost/lib/python3.13/site-packages/sklearn/base.py:918\u001b[0m, in \u001b[0;36mTransformerMixin.fit_transform\u001b[0;34m(self, X, y, **fit_params)\u001b[0m\n\u001b[1;32m    903\u001b[0m         warnings\u001b[38;5;241m.\u001b[39mwarn(\n\u001b[1;32m    904\u001b[0m             (\n\u001b[1;32m    905\u001b[0m                 \u001b[38;5;124mf\u001b[39m\u001b[38;5;124m\"\u001b[39m\u001b[38;5;124mThis object (\u001b[39m\u001b[38;5;132;01m{\u001b[39;00m\u001b[38;5;28mself\u001b[39m\u001b[38;5;241m.\u001b[39m\u001b[38;5;18m__class__\u001b[39m\u001b[38;5;241m.\u001b[39m\u001b[38;5;18m__name__\u001b[39m\u001b[38;5;132;01m}\u001b[39;00m\u001b[38;5;124m) has a `transform`\u001b[39m\u001b[38;5;124m\"\u001b[39m\n\u001b[0;32m   (...)\u001b[0m\n\u001b[1;32m    913\u001b[0m             \u001b[38;5;167;01mUserWarning\u001b[39;00m,\n\u001b[1;32m    914\u001b[0m         )\n\u001b[1;32m    916\u001b[0m \u001b[38;5;28;01mif\u001b[39;00m y \u001b[38;5;129;01mis\u001b[39;00m \u001b[38;5;28;01mNone\u001b[39;00m:\n\u001b[1;32m    917\u001b[0m     \u001b[38;5;66;03m# fit method of arity 1 (unsupervised transformation)\u001b[39;00m\n\u001b[0;32m--> 918\u001b[0m     \u001b[38;5;28;01mreturn\u001b[39;00m \u001b[38;5;28;43mself\u001b[39;49m\u001b[38;5;241;43m.\u001b[39;49m\u001b[43mfit\u001b[49m\u001b[43m(\u001b[49m\u001b[43mX\u001b[49m\u001b[43m,\u001b[49m\u001b[43m \u001b[49m\u001b[38;5;241;43m*\u001b[39;49m\u001b[38;5;241;43m*\u001b[39;49m\u001b[43mfit_params\u001b[49m\u001b[43m)\u001b[49m\u001b[38;5;241;43m.\u001b[39;49m\u001b[43mtransform\u001b[49m\u001b[43m(\u001b[49m\u001b[43mX\u001b[49m\u001b[43m)\u001b[49m\n\u001b[1;32m    919\u001b[0m \u001b[38;5;28;01melse\u001b[39;00m:\n\u001b[1;32m    920\u001b[0m     \u001b[38;5;66;03m# fit method of arity 2 (supervised transformation)\u001b[39;00m\n\u001b[1;32m    921\u001b[0m     \u001b[38;5;28;01mreturn\u001b[39;00m \u001b[38;5;28mself\u001b[39m\u001b[38;5;241m.\u001b[39mfit(X, y, \u001b[38;5;241m*\u001b[39m\u001b[38;5;241m*\u001b[39mfit_params)\u001b[38;5;241m.\u001b[39mtransform(X)\n",
      "File \u001b[0;32m/opt/anaconda3/envs/catboost/lib/python3.13/site-packages/sklearn/utils/_set_output.py:319\u001b[0m, in \u001b[0;36m_wrap_method_output.<locals>.wrapped\u001b[0;34m(self, X, *args, **kwargs)\u001b[0m\n\u001b[1;32m    317\u001b[0m \u001b[38;5;129m@wraps\u001b[39m(f)\n\u001b[1;32m    318\u001b[0m \u001b[38;5;28;01mdef\u001b[39;00m\u001b[38;5;250m \u001b[39m\u001b[38;5;21mwrapped\u001b[39m(\u001b[38;5;28mself\u001b[39m, X, \u001b[38;5;241m*\u001b[39margs, \u001b[38;5;241m*\u001b[39m\u001b[38;5;241m*\u001b[39mkwargs):\n\u001b[0;32m--> 319\u001b[0m     data_to_wrap \u001b[38;5;241m=\u001b[39m \u001b[43mf\u001b[49m\u001b[43m(\u001b[49m\u001b[38;5;28;43mself\u001b[39;49m\u001b[43m,\u001b[49m\u001b[43m \u001b[49m\u001b[43mX\u001b[49m\u001b[43m,\u001b[49m\u001b[43m \u001b[49m\u001b[38;5;241;43m*\u001b[39;49m\u001b[43margs\u001b[49m\u001b[43m,\u001b[49m\u001b[43m \u001b[49m\u001b[38;5;241;43m*\u001b[39;49m\u001b[38;5;241;43m*\u001b[39;49m\u001b[43mkwargs\u001b[49m\u001b[43m)\u001b[49m\n\u001b[1;32m    320\u001b[0m     \u001b[38;5;28;01mif\u001b[39;00m \u001b[38;5;28misinstance\u001b[39m(data_to_wrap, \u001b[38;5;28mtuple\u001b[39m):\n\u001b[1;32m    321\u001b[0m         \u001b[38;5;66;03m# only wrap the first output for cross decomposition\u001b[39;00m\n\u001b[1;32m    322\u001b[0m         return_tuple \u001b[38;5;241m=\u001b[39m (\n\u001b[1;32m    323\u001b[0m             _wrap_data_with_container(method, data_to_wrap[\u001b[38;5;241m0\u001b[39m], X, \u001b[38;5;28mself\u001b[39m),\n\u001b[1;32m    324\u001b[0m             \u001b[38;5;241m*\u001b[39mdata_to_wrap[\u001b[38;5;241m1\u001b[39m:],\n\u001b[1;32m    325\u001b[0m         )\n",
      "File \u001b[0;32m/opt/anaconda3/envs/catboost/lib/python3.13/site-packages/sklearn/impute/_knn.py:376\u001b[0m, in \u001b[0;36mKNNImputer.transform\u001b[0;34m(self, X)\u001b[0m\n\u001b[1;32m    367\u001b[0m \u001b[38;5;66;03m# process in fixed-memory chunks\u001b[39;00m\n\u001b[1;32m    368\u001b[0m gen \u001b[38;5;241m=\u001b[39m pairwise_distances_chunked(\n\u001b[1;32m    369\u001b[0m     X[row_missing_idx, :],\n\u001b[1;32m    370\u001b[0m     \u001b[38;5;28mself\u001b[39m\u001b[38;5;241m.\u001b[39m_fit_X,\n\u001b[0;32m   (...)\u001b[0m\n\u001b[1;32m    374\u001b[0m     reduce_func\u001b[38;5;241m=\u001b[39mprocess_chunk,\n\u001b[1;32m    375\u001b[0m )\n\u001b[0;32m--> 376\u001b[0m \u001b[43m\u001b[49m\u001b[38;5;28;43;01mfor\u001b[39;49;00m\u001b[43m \u001b[49m\u001b[43mchunk\u001b[49m\u001b[43m \u001b[49m\u001b[38;5;129;43;01min\u001b[39;49;00m\u001b[43m \u001b[49m\u001b[43mgen\u001b[49m\u001b[43m:\u001b[49m\n\u001b[1;32m    377\u001b[0m \u001b[43m    \u001b[49m\u001b[38;5;66;43;03m# process_chunk modifies X in place. No return value.\u001b[39;49;00m\n\u001b[1;32m    378\u001b[0m \u001b[43m    \u001b[49m\u001b[38;5;28;43;01mpass\u001b[39;49;00m\n\u001b[1;32m    380\u001b[0m \u001b[38;5;28;01mif\u001b[39;00m \u001b[38;5;28mself\u001b[39m\u001b[38;5;241m.\u001b[39mkeep_empty_features:\n",
      "File \u001b[0;32m/opt/anaconda3/envs/catboost/lib/python3.13/site-packages/sklearn/metrics/pairwise.py:2252\u001b[0m, in \u001b[0;36mpairwise_distances_chunked\u001b[0;34m(X, Y, reduce_func, metric, n_jobs, working_memory, **kwds)\u001b[0m\n\u001b[1;32m   2250\u001b[0m \u001b[38;5;28;01melse\u001b[39;00m:\n\u001b[1;32m   2251\u001b[0m     X_chunk \u001b[38;5;241m=\u001b[39m X[sl]\n\u001b[0;32m-> 2252\u001b[0m D_chunk \u001b[38;5;241m=\u001b[39m \u001b[43mpairwise_distances\u001b[49m\u001b[43m(\u001b[49m\u001b[43mX_chunk\u001b[49m\u001b[43m,\u001b[49m\u001b[43m \u001b[49m\u001b[43mY\u001b[49m\u001b[43m,\u001b[49m\u001b[43m \u001b[49m\u001b[43mmetric\u001b[49m\u001b[38;5;241;43m=\u001b[39;49m\u001b[43mmetric\u001b[49m\u001b[43m,\u001b[49m\u001b[43m \u001b[49m\u001b[43mn_jobs\u001b[49m\u001b[38;5;241;43m=\u001b[39;49m\u001b[43mn_jobs\u001b[49m\u001b[43m,\u001b[49m\u001b[43m \u001b[49m\u001b[38;5;241;43m*\u001b[39;49m\u001b[38;5;241;43m*\u001b[39;49m\u001b[43mkwds\u001b[49m\u001b[43m)\u001b[49m\n\u001b[1;32m   2253\u001b[0m \u001b[38;5;28;01mif\u001b[39;00m (X \u001b[38;5;129;01mis\u001b[39;00m Y \u001b[38;5;129;01mor\u001b[39;00m Y \u001b[38;5;129;01mis\u001b[39;00m \u001b[38;5;28;01mNone\u001b[39;00m) \u001b[38;5;129;01mand\u001b[39;00m PAIRWISE_DISTANCE_FUNCTIONS\u001b[38;5;241m.\u001b[39mget(\n\u001b[1;32m   2254\u001b[0m     metric, \u001b[38;5;28;01mNone\u001b[39;00m\n\u001b[1;32m   2255\u001b[0m ) \u001b[38;5;129;01mis\u001b[39;00m euclidean_distances:\n\u001b[1;32m   2256\u001b[0m     \u001b[38;5;66;03m# zeroing diagonal, taking care of aliases of \"euclidean\",\u001b[39;00m\n\u001b[1;32m   2257\u001b[0m     \u001b[38;5;66;03m# i.e. \"l2\"\u001b[39;00m\n\u001b[1;32m   2258\u001b[0m     D_chunk\u001b[38;5;241m.\u001b[39mflat[sl\u001b[38;5;241m.\u001b[39mstart :: _num_samples(X) \u001b[38;5;241m+\u001b[39m \u001b[38;5;241m1\u001b[39m] \u001b[38;5;241m=\u001b[39m \u001b[38;5;241m0\u001b[39m\n",
      "File \u001b[0;32m/opt/anaconda3/envs/catboost/lib/python3.13/site-packages/sklearn/utils/_param_validation.py:216\u001b[0m, in \u001b[0;36mvalidate_params.<locals>.decorator.<locals>.wrapper\u001b[0;34m(*args, **kwargs)\u001b[0m\n\u001b[1;32m    210\u001b[0m \u001b[38;5;28;01mtry\u001b[39;00m:\n\u001b[1;32m    211\u001b[0m     \u001b[38;5;28;01mwith\u001b[39;00m config_context(\n\u001b[1;32m    212\u001b[0m         skip_parameter_validation\u001b[38;5;241m=\u001b[39m(\n\u001b[1;32m    213\u001b[0m             prefer_skip_nested_validation \u001b[38;5;129;01mor\u001b[39;00m global_skip_validation\n\u001b[1;32m    214\u001b[0m         )\n\u001b[1;32m    215\u001b[0m     ):\n\u001b[0;32m--> 216\u001b[0m         \u001b[38;5;28;01mreturn\u001b[39;00m \u001b[43mfunc\u001b[49m\u001b[43m(\u001b[49m\u001b[38;5;241;43m*\u001b[39;49m\u001b[43margs\u001b[49m\u001b[43m,\u001b[49m\u001b[43m \u001b[49m\u001b[38;5;241;43m*\u001b[39;49m\u001b[38;5;241;43m*\u001b[39;49m\u001b[43mkwargs\u001b[49m\u001b[43m)\u001b[49m\n\u001b[1;32m    217\u001b[0m \u001b[38;5;28;01mexcept\u001b[39;00m InvalidParameterError \u001b[38;5;28;01mas\u001b[39;00m e:\n\u001b[1;32m    218\u001b[0m     \u001b[38;5;66;03m# When the function is just a wrapper around an estimator, we allow\u001b[39;00m\n\u001b[1;32m    219\u001b[0m     \u001b[38;5;66;03m# the function to delegate validation to the estimator, but we replace\u001b[39;00m\n\u001b[1;32m    220\u001b[0m     \u001b[38;5;66;03m# the name of the estimator by the name of the function in the error\u001b[39;00m\n\u001b[1;32m    221\u001b[0m     \u001b[38;5;66;03m# message to avoid confusion.\u001b[39;00m\n\u001b[1;32m    222\u001b[0m     msg \u001b[38;5;241m=\u001b[39m re\u001b[38;5;241m.\u001b[39msub(\n\u001b[1;32m    223\u001b[0m         \u001b[38;5;124mr\u001b[39m\u001b[38;5;124m\"\u001b[39m\u001b[38;5;124mparameter of \u001b[39m\u001b[38;5;124m\\\u001b[39m\u001b[38;5;124mw+ must be\u001b[39m\u001b[38;5;124m\"\u001b[39m,\n\u001b[1;32m    224\u001b[0m         \u001b[38;5;124mf\u001b[39m\u001b[38;5;124m\"\u001b[39m\u001b[38;5;124mparameter of \u001b[39m\u001b[38;5;132;01m{\u001b[39;00mfunc\u001b[38;5;241m.\u001b[39m\u001b[38;5;18m__qualname__\u001b[39m\u001b[38;5;132;01m}\u001b[39;00m\u001b[38;5;124m must be\u001b[39m\u001b[38;5;124m\"\u001b[39m,\n\u001b[1;32m    225\u001b[0m         \u001b[38;5;28mstr\u001b[39m(e),\n\u001b[1;32m    226\u001b[0m     )\n",
      "File \u001b[0;32m/opt/anaconda3/envs/catboost/lib/python3.13/site-packages/sklearn/metrics/pairwise.py:2480\u001b[0m, in \u001b[0;36mpairwise_distances\u001b[0;34m(X, Y, metric, n_jobs, force_all_finite, ensure_all_finite, **kwds)\u001b[0m\n\u001b[1;32m   2477\u001b[0m         \u001b[38;5;28;01mreturn\u001b[39;00m distance\u001b[38;5;241m.\u001b[39msquareform(distance\u001b[38;5;241m.\u001b[39mpdist(X, metric\u001b[38;5;241m=\u001b[39mmetric, \u001b[38;5;241m*\u001b[39m\u001b[38;5;241m*\u001b[39mkwds))\n\u001b[1;32m   2478\u001b[0m     func \u001b[38;5;241m=\u001b[39m partial(distance\u001b[38;5;241m.\u001b[39mcdist, metric\u001b[38;5;241m=\u001b[39mmetric, \u001b[38;5;241m*\u001b[39m\u001b[38;5;241m*\u001b[39mkwds)\n\u001b[0;32m-> 2480\u001b[0m \u001b[38;5;28;01mreturn\u001b[39;00m \u001b[43m_parallel_pairwise\u001b[49m\u001b[43m(\u001b[49m\u001b[43mX\u001b[49m\u001b[43m,\u001b[49m\u001b[43m \u001b[49m\u001b[43mY\u001b[49m\u001b[43m,\u001b[49m\u001b[43m \u001b[49m\u001b[43mfunc\u001b[49m\u001b[43m,\u001b[49m\u001b[43m \u001b[49m\u001b[43mn_jobs\u001b[49m\u001b[43m,\u001b[49m\u001b[43m \u001b[49m\u001b[38;5;241;43m*\u001b[39;49m\u001b[38;5;241;43m*\u001b[39;49m\u001b[43mkwds\u001b[49m\u001b[43m)\u001b[49m\n",
      "File \u001b[0;32m/opt/anaconda3/envs/catboost/lib/python3.13/site-packages/sklearn/metrics/pairwise.py:1973\u001b[0m, in \u001b[0;36m_parallel_pairwise\u001b[0;34m(X, Y, func, n_jobs, **kwds)\u001b[0m\n\u001b[1;32m   1970\u001b[0m X, Y, dtype \u001b[38;5;241m=\u001b[39m _return_float_dtype(X, Y)\n\u001b[1;32m   1972\u001b[0m \u001b[38;5;28;01mif\u001b[39;00m effective_n_jobs(n_jobs) \u001b[38;5;241m==\u001b[39m \u001b[38;5;241m1\u001b[39m:\n\u001b[0;32m-> 1973\u001b[0m     \u001b[38;5;28;01mreturn\u001b[39;00m \u001b[43mfunc\u001b[49m\u001b[43m(\u001b[49m\u001b[43mX\u001b[49m\u001b[43m,\u001b[49m\u001b[43m \u001b[49m\u001b[43mY\u001b[49m\u001b[43m,\u001b[49m\u001b[43m \u001b[49m\u001b[38;5;241;43m*\u001b[39;49m\u001b[38;5;241;43m*\u001b[39;49m\u001b[43mkwds\u001b[49m\u001b[43m)\u001b[49m\n\u001b[1;32m   1975\u001b[0m \u001b[38;5;66;03m# enforce a threading backend to prevent data communication overhead\u001b[39;00m\n\u001b[1;32m   1976\u001b[0m fd \u001b[38;5;241m=\u001b[39m delayed(_dist_wrapper)\n",
      "File \u001b[0;32m/opt/anaconda3/envs/catboost/lib/python3.13/site-packages/sklearn/utils/_param_validation.py:189\u001b[0m, in \u001b[0;36mvalidate_params.<locals>.decorator.<locals>.wrapper\u001b[0;34m(*args, **kwargs)\u001b[0m\n\u001b[1;32m    187\u001b[0m global_skip_validation \u001b[38;5;241m=\u001b[39m get_config()[\u001b[38;5;124m\"\u001b[39m\u001b[38;5;124mskip_parameter_validation\u001b[39m\u001b[38;5;124m\"\u001b[39m]\n\u001b[1;32m    188\u001b[0m \u001b[38;5;28;01mif\u001b[39;00m global_skip_validation:\n\u001b[0;32m--> 189\u001b[0m     \u001b[38;5;28;01mreturn\u001b[39;00m \u001b[43mfunc\u001b[49m\u001b[43m(\u001b[49m\u001b[38;5;241;43m*\u001b[39;49m\u001b[43margs\u001b[49m\u001b[43m,\u001b[49m\u001b[43m \u001b[49m\u001b[38;5;241;43m*\u001b[39;49m\u001b[38;5;241;43m*\u001b[39;49m\u001b[43mkwargs\u001b[49m\u001b[43m)\u001b[49m\n\u001b[1;32m    191\u001b[0m func_sig \u001b[38;5;241m=\u001b[39m signature(func)\n\u001b[1;32m    193\u001b[0m \u001b[38;5;66;03m# Map *args/**kwargs to the function signature\u001b[39;00m\n",
      "File \u001b[0;32m/opt/anaconda3/envs/catboost/lib/python3.13/site-packages/sklearn/metrics/pairwise.py:560\u001b[0m, in \u001b[0;36mnan_euclidean_distances\u001b[0;34m(X, Y, squared, missing_values, copy)\u001b[0m\n\u001b[1;32m    557\u001b[0m distances \u001b[38;5;241m-\u001b[39m\u001b[38;5;241m=\u001b[39m np\u001b[38;5;241m.\u001b[39mdot(XX, missing_Y\u001b[38;5;241m.\u001b[39mT)\n\u001b[1;32m    558\u001b[0m distances \u001b[38;5;241m-\u001b[39m\u001b[38;5;241m=\u001b[39m np\u001b[38;5;241m.\u001b[39mdot(missing_X, YY\u001b[38;5;241m.\u001b[39mT)\n\u001b[0;32m--> 560\u001b[0m \u001b[43mnp\u001b[49m\u001b[38;5;241;43m.\u001b[39;49m\u001b[43mclip\u001b[49m\u001b[43m(\u001b[49m\u001b[43mdistances\u001b[49m\u001b[43m,\u001b[49m\u001b[43m \u001b[49m\u001b[38;5;241;43m0\u001b[39;49m\u001b[43m,\u001b[49m\u001b[43m \u001b[49m\u001b[38;5;28;43;01mNone\u001b[39;49;00m\u001b[43m,\u001b[49m\u001b[43m \u001b[49m\u001b[43mout\u001b[49m\u001b[38;5;241;43m=\u001b[39;49m\u001b[43mdistances\u001b[49m\u001b[43m)\u001b[49m\n\u001b[1;32m    562\u001b[0m \u001b[38;5;28;01mif\u001b[39;00m X \u001b[38;5;129;01mis\u001b[39;00m Y:\n\u001b[1;32m    563\u001b[0m     \u001b[38;5;66;03m# Ensure that distances between vectors and themselves are set to 0.0.\u001b[39;00m\n\u001b[1;32m    564\u001b[0m     \u001b[38;5;66;03m# This may not be the case due to floating point rounding errors.\u001b[39;00m\n\u001b[1;32m    565\u001b[0m     np\u001b[38;5;241m.\u001b[39mfill_diagonal(distances, \u001b[38;5;241m0.0\u001b[39m)\n",
      "File \u001b[0;32m/opt/anaconda3/envs/catboost/lib/python3.13/site-packages/numpy/_core/fromnumeric.py:2330\u001b[0m, in \u001b[0;36mclip\u001b[0;34m(a, a_min, a_max, out, min, max, **kwargs)\u001b[0m\n\u001b[1;32m   2326\u001b[0m \u001b[38;5;28;01melif\u001b[39;00m \u001b[38;5;28mmin\u001b[39m \u001b[38;5;129;01mis\u001b[39;00m \u001b[38;5;129;01mnot\u001b[39;00m np\u001b[38;5;241m.\u001b[39m_NoValue \u001b[38;5;129;01mor\u001b[39;00m \u001b[38;5;28mmax\u001b[39m \u001b[38;5;129;01mis\u001b[39;00m \u001b[38;5;129;01mnot\u001b[39;00m np\u001b[38;5;241m.\u001b[39m_NoValue:\n\u001b[1;32m   2327\u001b[0m     \u001b[38;5;28;01mraise\u001b[39;00m \u001b[38;5;167;01mValueError\u001b[39;00m(\u001b[38;5;124m\"\u001b[39m\u001b[38;5;124mPassing `min` or `max` keyword argument when \u001b[39m\u001b[38;5;124m\"\u001b[39m\n\u001b[1;32m   2328\u001b[0m                      \u001b[38;5;124m\"\u001b[39m\u001b[38;5;124m`a_min` and `a_max` are provided is forbidden.\u001b[39m\u001b[38;5;124m\"\u001b[39m)\n\u001b[0;32m-> 2330\u001b[0m \u001b[38;5;28;01mreturn\u001b[39;00m \u001b[43m_wrapfunc\u001b[49m\u001b[43m(\u001b[49m\u001b[43ma\u001b[49m\u001b[43m,\u001b[49m\u001b[43m \u001b[49m\u001b[38;5;124;43m'\u001b[39;49m\u001b[38;5;124;43mclip\u001b[39;49m\u001b[38;5;124;43m'\u001b[39;49m\u001b[43m,\u001b[49m\u001b[43m \u001b[49m\u001b[43ma_min\u001b[49m\u001b[43m,\u001b[49m\u001b[43m \u001b[49m\u001b[43ma_max\u001b[49m\u001b[43m,\u001b[49m\u001b[43m \u001b[49m\u001b[43mout\u001b[49m\u001b[38;5;241;43m=\u001b[39;49m\u001b[43mout\u001b[49m\u001b[43m,\u001b[49m\u001b[43m \u001b[49m\u001b[38;5;241;43m*\u001b[39;49m\u001b[38;5;241;43m*\u001b[39;49m\u001b[43mkwargs\u001b[49m\u001b[43m)\u001b[49m\n",
      "File \u001b[0;32m/opt/anaconda3/envs/catboost/lib/python3.13/site-packages/numpy/_core/fromnumeric.py:57\u001b[0m, in \u001b[0;36m_wrapfunc\u001b[0;34m(obj, method, *args, **kwds)\u001b[0m\n\u001b[1;32m     54\u001b[0m     \u001b[38;5;28;01mreturn\u001b[39;00m _wrapit(obj, method, \u001b[38;5;241m*\u001b[39margs, \u001b[38;5;241m*\u001b[39m\u001b[38;5;241m*\u001b[39mkwds)\n\u001b[1;32m     56\u001b[0m \u001b[38;5;28;01mtry\u001b[39;00m:\n\u001b[0;32m---> 57\u001b[0m     \u001b[38;5;28;01mreturn\u001b[39;00m \u001b[43mbound\u001b[49m\u001b[43m(\u001b[49m\u001b[38;5;241;43m*\u001b[39;49m\u001b[43margs\u001b[49m\u001b[43m,\u001b[49m\u001b[43m \u001b[49m\u001b[38;5;241;43m*\u001b[39;49m\u001b[38;5;241;43m*\u001b[39;49m\u001b[43mkwds\u001b[49m\u001b[43m)\u001b[49m\n\u001b[1;32m     58\u001b[0m \u001b[38;5;28;01mexcept\u001b[39;00m \u001b[38;5;167;01mTypeError\u001b[39;00m:\n\u001b[1;32m     59\u001b[0m     \u001b[38;5;66;03m# A TypeError occurs if the object does have such a method in its\u001b[39;00m\n\u001b[1;32m     60\u001b[0m     \u001b[38;5;66;03m# class, but its signature is not identical to that of NumPy's. This\u001b[39;00m\n\u001b[0;32m   (...)\u001b[0m\n\u001b[1;32m     64\u001b[0m     \u001b[38;5;66;03m# Call _wrapit from within the except clause to ensure a potential\u001b[39;00m\n\u001b[1;32m     65\u001b[0m     \u001b[38;5;66;03m# exception has a traceback chain.\u001b[39;00m\n\u001b[1;32m     66\u001b[0m     \u001b[38;5;28;01mreturn\u001b[39;00m _wrapit(obj, method, \u001b[38;5;241m*\u001b[39margs, \u001b[38;5;241m*\u001b[39m\u001b[38;5;241m*\u001b[39mkwds)\n",
      "File \u001b[0;32m/opt/anaconda3/envs/catboost/lib/python3.13/site-packages/numpy/_core/_methods.py:114\u001b[0m, in \u001b[0;36m_clip\u001b[0;34m(a, min, max, out, **kwargs)\u001b[0m\n\u001b[1;32m    112\u001b[0m     \u001b[38;5;28;01mreturn\u001b[39;00m um\u001b[38;5;241m.\u001b[39mminimum(a, \u001b[38;5;28mmax\u001b[39m, out\u001b[38;5;241m=\u001b[39mout, \u001b[38;5;241m*\u001b[39m\u001b[38;5;241m*\u001b[39mkwargs)\n\u001b[1;32m    113\u001b[0m \u001b[38;5;28;01melif\u001b[39;00m \u001b[38;5;28mmax\u001b[39m \u001b[38;5;129;01mis\u001b[39;00m \u001b[38;5;28;01mNone\u001b[39;00m:\n\u001b[0;32m--> 114\u001b[0m     \u001b[38;5;28;01mreturn\u001b[39;00m \u001b[43mum\u001b[49m\u001b[38;5;241;43m.\u001b[39;49m\u001b[43mmaximum\u001b[49m\u001b[43m(\u001b[49m\u001b[43ma\u001b[49m\u001b[43m,\u001b[49m\u001b[43m \u001b[49m\u001b[38;5;28;43mmin\u001b[39;49m\u001b[43m,\u001b[49m\u001b[43m \u001b[49m\u001b[43mout\u001b[49m\u001b[38;5;241;43m=\u001b[39;49m\u001b[43mout\u001b[49m\u001b[43m,\u001b[49m\u001b[43m \u001b[49m\u001b[38;5;241;43m*\u001b[39;49m\u001b[38;5;241;43m*\u001b[39;49m\u001b[43mkwargs\u001b[49m\u001b[43m)\u001b[49m\n\u001b[1;32m    115\u001b[0m \u001b[38;5;28;01melse\u001b[39;00m:\n\u001b[1;32m    116\u001b[0m     \u001b[38;5;28;01mreturn\u001b[39;00m um\u001b[38;5;241m.\u001b[39mclip(a, \u001b[38;5;28mmin\u001b[39m, \u001b[38;5;28mmax\u001b[39m, out\u001b[38;5;241m=\u001b[39mout, \u001b[38;5;241m*\u001b[39m\u001b[38;5;241m*\u001b[39mkwargs)\n",
      "\u001b[0;31mKeyboardInterrupt\u001b[0m: "
     ]
    }
   ],
   "source": [
    "'''\n",
    "    TODO : 수치형 데이터 결측치 처리 (filled) - KNN imputer\n",
    "'''\n",
    "import joblib \n",
    "from sklearn.impute import KNNImputer\n",
    "\n",
    "imputer_cache_path = \"knn_imputed.pkl\"\n",
    "\n",
    "try:\n",
    "    X_train_imputed, test_imputed = joblib.load(imputer_cache_path)\n",
    "    print(\"Loaded cached KNN imputed data.\")\n",
    "except FileNotFoundError:\n",
    "    numeric_filled_columns = numeric_null_ratio[numeric_null_ratio < 0.8].index  # 결측치 비율 80% 미만 컬럼 선택\n",
    "    \n",
    "    knn_imputer = KNNImputer(n_neighbors=6)\n",
    "    \n",
    "    X_train_imputed = X_train.copy()\n",
    "    test_imputed = test.copy()\n",
    "    \n",
    "    X_train_imputed[numeric_filled_columns] = knn_imputer.fit_transform(X_train[numeric_filled_columns])\n",
    "    print(\"X_train finish\")\n",
    "    test_imputed[numeric_filled_columns] = knn_imputer.transform(test[numeric_filled_columns])\n",
    "    print(\"All columns imputed.\")\n",
    "    \n",
    "    joblib.dump((X_train_imputed, test_imputed), imputer_cache_path)\n",
    "    print(\"Saved KNN imputed data.\")\n"
   ]
  },
  {
   "cell_type": "code",
   "execution_count": 9,
   "metadata": {},
   "outputs": [],
   "source": [
    "'''\n",
    "    TODO : 순서가 있는 범주형 데이터  구분\n",
    "'''\n",
    "categorical_columns_level = [\n",
    "    \"시술 당시 나이\",\n",
    "    \"총 시술 횟수\",\n",
    "    \"클리닉 내 총 시술 횟수\",\n",
    "    \"IVF 시술 횟수\",\n",
    "    \"DI 시술 횟수\",\n",
    "    \"총 임신 횟수\",\n",
    "    \"IVF 임신 횟수\",\n",
    "    \"DI 임신 횟수\",\n",
    "    \"총 출산 횟수\",\n",
    "    \"IVF 출산 횟수\",\n",
    "    \"DI 출산 횟수\",\n",
    "    \"난자 기증자 나이\",\n",
    "    \"정자 기증자 나이\",\n",
    "] # 13"
   ]
  },
  {
   "cell_type": "code",
   "execution_count": 10,
   "metadata": {},
   "outputs": [
    {
     "name": "stdout",
     "output_type": "stream",
     "text": [
      "0\n",
      "0\n",
      "0\n",
      "0\n",
      "0\n",
      "0\n",
      "0\n",
      "0\n",
      "0\n",
      "0\n",
      "0\n",
      "0\n",
      "0\n"
     ]
    }
   ],
   "source": [
    "'''\n",
    "    TODO : 순서가 있는 범주형 데이터 null 값 확인 \n",
    "'''\n",
    "for col in categorical_columns_level:\n",
    "    print(X_train_imputed[col].isnull().sum())\n",
    "# 결측지 없어서 결측지 처리 따로 안함"
   ]
  },
  {
   "cell_type": "code",
   "execution_count": 11,
   "metadata": {},
   "outputs": [],
   "source": [
    "# '''\n",
    "#     TODO : 순서가 있는 범주형 데이터 \n",
    "# '''\n",
    "# for col in categorical_columns_level:\n",
    "#     X_train_imputed[col] = X_train_imputed[col].astype(str)\n",
    "#     test_imputed[col] = test_imputed[col].astype(str)"
   ]
  },
  {
   "cell_type": "code",
   "execution_count": 12,
   "metadata": {},
   "outputs": [],
   "source": [
    "'''\n",
    "    TODO : 순서가 없는 범주형 데이터 구분\n",
    "'''\n",
    "categorical_columns = [\n",
    "    \"시술 시기 코드\",\n",
    "    \"시술 유형\",\n",
    "    \"배란 자극 여부\",\n",
    "    \"배란 유도 유형\",\n",
    "    \"단일 배아 이식 여부\",\n",
    "    \"착상 전 유전 검사 사용 여부\",\n",
    "    \"착상 전 유전 진단 사용 여부\",\n",
    "    \"남성 주 불임 원인\",\n",
    "    \"남성 부 불임 원인\",\n",
    "    \"여성 주 불임 원인\",\n",
    "    \"여성 부 불임 원인\",\n",
    "    \"부부 주 불임 원인\",\n",
    "    \"부부 부 불임 원인\",\n",
    "    \"불명확 불임 원인\",\n",
    "    \"불임 원인 - 난관 질환\",\n",
    "    \"불임 원인 - 남성 요인\",\n",
    "    \"불임 원인 - 배란 장애\",\n",
    "    \"불임 원인 - 여성 요인\",\n",
    "    \"불임 원인 - 자궁경부 문제\",\n",
    "    \"불임 원인 - 자궁내막증\",\n",
    "    \"불임 원인 - 정자 농도\",\n",
    "    \"불임 원인 - 정자 면역학적 요인\",\n",
    "    \"불임 원인 - 정자 운동성\",\n",
    "    \"불임 원인 - 정자 형태\",\n",
    "    \"배아 생성 주요 이유\",\n",
    "    \"난자 출처\",\n",
    "    \"정자 출처\",\n",
    "    \"동결 배아 사용 여부\",\n",
    "    \"신선 배아 사용 여부\",\n",
    "    \"기증 배아 사용 여부\",\n",
    "    \"대리모 여부\",\n",
    "    \"PGD 시술 여부\",\n",
    "    \"PGS 시술 여부\",\n",
    "    \"특정 시술 유형\"\n",
    "] #34"
   ]
  },
  {
   "cell_type": "code",
   "execution_count": 13,
   "metadata": {},
   "outputs": [
    {
     "name": "stdout",
     "output_type": "stream",
     "text": [
      "시술 시기 코드                   0\n",
      "시술 유형                      0\n",
      "배란 자극 여부                   0\n",
      "배란 유도 유형                   0\n",
      "단일 배아 이식 여부             6291\n",
      "착상 전 유전 검사 사용 여부      253633\n",
      "착상 전 유전 진단 사용 여부        6291\n",
      "남성 주 불임 원인                 0\n",
      "남성 부 불임 원인                 0\n",
      "여성 주 불임 원인                 0\n",
      "여성 부 불임 원인                 0\n",
      "부부 주 불임 원인                 0\n",
      "부부 부 불임 원인                 0\n",
      "불명확 불임 원인                  0\n",
      "불임 원인 - 난관 질환              0\n",
      "불임 원인 - 남성 요인              0\n",
      "불임 원인 - 배란 장애              0\n",
      "불임 원인 - 여성 요인              0\n",
      "불임 원인 - 자궁경부 문제            0\n",
      "불임 원인 - 자궁내막증              0\n",
      "불임 원인 - 정자 농도              0\n",
      "불임 원인 - 정자 면역학적 요인         0\n",
      "불임 원인 - 정자 운동성             0\n",
      "불임 원인 - 정자 형태              0\n",
      "배아 생성 주요 이유             6291\n",
      "난자 출처                      0\n",
      "정자 출처                      0\n",
      "동결 배아 사용 여부             6291\n",
      "신선 배아 사용 여부             6291\n",
      "기증 배아 사용 여부             6291\n",
      "대리모 여부                  6291\n",
      "PGD 시술 여부             254172\n",
      "PGS 시술 여부             254422\n",
      "특정 시술 유형                   2\n",
      "dtype: int64\n",
      "['단일 배아 이식 여부', '착상 전 유전 검사 사용 여부', '착상 전 유전 진단 사용 여부', '배아 생성 주요 이유', '동결 배아 사용 여부', '신선 배아 사용 여부', '기증 배아 사용 여부', '대리모 여부', 'PGD 시술 여부', 'PGS 시술 여부', '특정 시술 유형']\n"
     ]
    }
   ],
   "source": [
    "'''\n",
    "    TODO : 순서가 없는 범주형 데이터 null 값 확인\n",
    "'''\n",
    "categorical_null_columns = []\n",
    "print(X_train_imputed[categorical_columns].isnull().sum())\n",
    "categorical_null_columns = [ col for col in categorical_columns if X_train_imputed[col].isnull().sum() != 0 ]\n",
    "print(categorical_null_columns)"
   ]
  },
  {
   "cell_type": "code",
   "execution_count": 14,
   "metadata": {},
   "outputs": [
    {
     "name": "stdout",
     "output_type": "stream",
     "text": [
      "PGS 시술 여부           0.992475\n",
      "PGD 시술 여부           0.991500\n",
      "착상 전 유전 검사 사용 여부    0.989397\n",
      "단일 배아 이식 여부         0.024541\n",
      "착상 전 유전 진단 사용 여부    0.024541\n",
      "배아 생성 주요 이유         0.024541\n",
      "동결 배아 사용 여부         0.024541\n",
      "신선 배아 사용 여부         0.024541\n",
      "기증 배아 사용 여부         0.024541\n",
      "대리모 여부              0.024541\n",
      "특정 시술 유형            0.000008\n",
      "dtype: float64\n",
      "삭제된 칼럼: ['PGS 시술 여부', 'PGD 시술 여부', '착상 전 유전 검사 사용 여부']\n",
      "남은 categorical_columns: ['불임 원인 - 정자 면역학적 요인', '불임 원인 - 여성 요인', '배아 생성 주요 이유', '불임 원인 - 정자 농도', '동결 배아 사용 여부', '불임 원인 - 자궁경부 문제', '시술 유형', '신선 배아 사용 여부', '부부 부 불임 원인', '특정 시술 유형', '남성 주 불임 원인', '난자 출처', '여성 주 불임 원인', '불임 원인 - 남성 요인', '시술 시기 코드', '부부 주 불임 원인', '단일 배아 이식 여부', '불임 원인 - 정자 형태', '착상 전 유전 진단 사용 여부', '배란 자극 여부', '불임 원인 - 배란 장애', '기증 배아 사용 여부', '불임 원인 - 난관 질환', '불임 원인 - 정자 운동성', '불명확 불임 원인', '대리모 여부', '배란 유도 유형', '남성 부 불임 원인', '여성 부 불임 원인', '정자 출처', '불임 원인 - 자궁내막증']\n",
      "31\n"
     ]
    }
   ],
   "source": [
    "'''\n",
    "    TODO : 순서가 없는 범주형 데이터 결측치 처리 (drop)\n",
    "'''\n",
    "categorical_null_ratio = X_train_imputed[categorical_null_columns].isnull().mean().sort_values(ascending=False)\n",
    "print(categorical_null_ratio)\n",
    "\n",
    "drop_columns = categorical_null_ratio[categorical_null_ratio >= 0.9].index\n",
    "X_train_imputed = X_train_imputed.drop(columns=drop_columns)\n",
    "test_imputed = test_imputed.drop(columns=drop_columns)\n",
    "\n",
    "categorical_columns = list(set(categorical_columns) - set(drop_columns))\n",
    "print(f\"삭제된 칼럼: {list(drop_columns)}\")\n",
    "print(f\"남은 categorical_columns: {categorical_columns}\")\n",
    "print(len(categorical_columns))"
   ]
  },
  {
   "cell_type": "code",
   "execution_count": 15,
   "metadata": {},
   "outputs": [
    {
     "name": "stdout",
     "output_type": "stream",
     "text": [
      "'Missing'으로 결측치 채움 완료\n"
     ]
    }
   ],
   "source": [
    "'''\n",
    "    TODO : 순서가 없는 범주형 데이터 결측치 처리 (filled)\n",
    "'''\n",
    "from sklearn.impute import SimpleImputer\n",
    "\n",
    "imputer = SimpleImputer(strategy='most_frequent')\n",
    "\n",
    "X_train_imputed[categorical_columns] = imputer.fit_transform(X_train_imputed[categorical_columns])\n",
    "test_imputed[categorical_columns] = imputer.transform(test_imputed[categorical_columns])\n",
    "\n",
    "print(\"'Missing'으로 결측치 채움 완료\")"
   ]
  },
  {
   "cell_type": "code",
   "execution_count": 16,
   "metadata": {},
   "outputs": [
    {
     "name": "stdout",
     "output_type": "stream",
     "text": [
      "44\n"
     ]
    }
   ],
   "source": [
    "'''\n",
    "    TODO : 범주형 데이터 인코딩 준비\n",
    "'''\n",
    "categorical_columns = list(set(categorical_columns) | set(categorical_columns_level))\n",
    "print(len(categorical_columns))\n",
    "\n",
    "for col in categorical_columns:\n",
    "    X_train_imputed[col] = X_train_imputed[col].astype(str)\n",
    "    test_imputed[col] = test_imputed[col].astype(str)"
   ]
  },
  {
   "cell_type": "code",
   "execution_count": 17,
   "metadata": {},
   "outputs": [],
   "source": [
    "'''\n",
    "    TODO : 범주형 데이터 인코딩 - Ordinal Encoder\n",
    "'''\n",
    "from sklearn.preprocessing import OrdinalEncoder\n",
    "\n",
    "ordinal_encoder = OrdinalEncoder(handle_unknown='use_encoded_value', unknown_value=-1)\n",
    "\n",
    "# 카테고리형 변수 인코딩\n",
    "X_train_encoded = X_train_imputed.copy()\n",
    "X_train_encoded[categorical_columns] = ordinal_encoder.fit_transform(X_train_imputed[categorical_columns])\n",
    "\n",
    "test_encoded = test_imputed.copy()\n",
    "test_encoded[categorical_columns] = ordinal_encoder.transform(test_imputed[categorical_columns])\n"
   ]
  },
  {
   "cell_type": "code",
   "execution_count": 18,
   "metadata": {},
   "outputs": [],
   "source": [
    "# '''\n",
    "#     TODO : PCA 적용 (수치형 데이터) -> 성능에 별 차지를 주지는 않군\n",
    "# '''\n",
    "# from sklearn.decomposition import PCA\n",
    "# from sklearn.preprocessing import StandardScaler\n",
    "# import pandas as pd\n",
    "\n",
    "# X_train_numeric = X_train[numeric_columns]\n",
    "# test_numeric = test[numeric_columns]\n",
    "\n",
    "# # 데이터 스케일링 (PCA는 거리 기반 기법이므로 반드시 표준화 필요)\n",
    "# scaler = StandardScaler()\n",
    "# X_train_scaled = scaler.fit_transform(X_train_numeric)\n",
    "# test_scaled = scaler.transform(test_numeric)\n",
    "\n",
    "# # PCA 적용 (설정: 분산을 95% 유지하는 주성분 개수 자동 선택)\n",
    "# pca = PCA(n_components=0.95, random_state=42)\n",
    "# X_train_pca = pca.fit_transform(X_train_scaled)\n",
    "# test_pca = pca.transform(test_scaled)\n",
    "\n",
    "# # PCA 결과를 데이터프레임으로 변환\n",
    "# X_train_pca = pd.DataFrame(X_train_pca, columns=[f'PC{i+1}' for i in range(X_train_pca.shape[1])])\n",
    "# test_pca = pd.DataFrame(test_pca, columns=[f'PC{i+1}' for i in range(test_pca.shape[1])])\n",
    "\n",
    "# # PCA 설명된 분산 비율 확인\n",
    "# explained_variance = pca.explained_variance_ratio_\n",
    "# cumulative_variance = explained_variance.cumsum()\n",
    "# num_components = len(cumulative_variance)\n",
    "\n",
    "# print(f\"PCA :  사용된 주성분 개수: {num_components}\")\n",
    "# print(f\"설명된 분산 비율 (누적): {cumulative_variance[-1]:.4f}\")\n",
    "\n",
    "# # 기존 데이터에서 숫자형 부분을 PCA 결과로 교체\n",
    "# X_train.update(X_train_pca)\n",
    "# test.update(test_pca)\n"
   ]
  },
  {
   "cell_type": "markdown",
   "metadata": {},
   "source": [
    "### Train"
   ]
  },
  {
   "cell_type": "code",
   "execution_count": 1252,
   "metadata": {},
   "outputs": [],
   "source": [
    "# from catboost import CatBoostClassifier\n",
    "# from sklearn.model_selection import train_test_split\n",
    "# from sklearn.metrics import accuracy_score, roc_auc_score\n",
    "\n",
    "# # 데이터 80:20으로 분할\n",
    "# X_train_split, X_valid, y_train_split, y_valid = train_test_split(\n",
    "#     X_train_encoded, y_train, test_size=0.2, random_state=42\n",
    "# )\n",
    "\n",
    "# # CatBoost 모델 학습\n",
    "# catboost_model = CatBoostClassifier(l2_leaf_reg=5, random_state=42, verbose=100)\n",
    "# catboost_model.fit(X_train_split, y_train_split)\n",
    "\n",
    "# # 검증 데이터에서 예측 수행\n",
    "# y_pred_valid = catboost_model.predict(X_valid)\n",
    "# y_pred_valid_proba = catboost_model.predict_proba(X_valid)[:, 1]  # 양성 클래스 확률\n",
    "\n",
    "# # 검증 데이터 평가\n",
    "# accuracy_valid = accuracy_score(y_valid, y_pred_valid)\n",
    "# roc_auc_valid = roc_auc_score(y_valid, y_pred_valid_proba)\n",
    "\n",
    "# print(f\"Validation Accuracy: {accuracy_valid:.4f}\")\n",
    "# print(f\"Validation ROC-AUC Score: {roc_auc_valid:.4f}\")\n",
    "\n",
    "# # 학습 데이터에서도 평가 (과적합 여부 확인)\n",
    "# y_pred_train = catboost_model.predict(X_train_split)\n",
    "# y_pred_train_proba = catboost_model.predict_proba(X_train_split)[:, 1]\n",
    "\n",
    "# accuracy_train = accuracy_score(y_train_split, y_pred_train)\n",
    "# roc_auc_train = roc_auc_score(y_train_split, y_pred_train_proba)\n",
    "\n",
    "# print(f\"Train Accuracy: {accuracy_train:.4f}\")\n",
    "# print(f\"Train ROC-AUC Score: {roc_auc_train:.4f}\")\n"
   ]
  },
  {
   "cell_type": "code",
   "execution_count": 19,
   "metadata": {},
   "outputs": [
    {
     "name": "stdout",
     "output_type": "stream",
     "text": [
      "Learning rate set to 0.110029\n",
      "0:\tlearn: 0.6262906\ttotal: 98ms\tremaining: 1m 37s\n",
      "100:\tlearn: 0.4862047\ttotal: 4.82s\tremaining: 42.9s\n",
      "200:\tlearn: 0.4829905\ttotal: 8.74s\tremaining: 34.8s\n",
      "300:\tlearn: 0.4805997\ttotal: 12.2s\tremaining: 28.4s\n",
      "400:\tlearn: 0.4786102\ttotal: 15.7s\tremaining: 23.5s\n",
      "500:\tlearn: 0.4769000\ttotal: 19.3s\tremaining: 19.2s\n",
      "600:\tlearn: 0.4752877\ttotal: 23.1s\tremaining: 15.3s\n",
      "700:\tlearn: 0.4738480\ttotal: 26.8s\tremaining: 11.4s\n",
      "800:\tlearn: 0.4723504\ttotal: 30.4s\tremaining: 7.54s\n",
      "900:\tlearn: 0.4710740\ttotal: 33.8s\tremaining: 3.72s\n",
      "999:\tlearn: 0.4699630\ttotal: 37.3s\tremaining: 0us\n",
      "Train Accuracy: 0.7613\n",
      "Train ROC-AUC Score: 0.7704\n"
     ]
    }
   ],
   "source": [
    "from catboost import CatBoostClassifier\n",
    "from sklearn.metrics import accuracy_score, roc_auc_score\n",
    "\n",
    "# CatBoost 모델 학습\n",
    "catboost_model = CatBoostClassifier(random_state=42, verbose=100)\n",
    "catboost_model.fit(X_train_encoded, y_train)\n",
    "\n",
    "# 학습 데이터에서 예측 수행\n",
    "y_pred_train = catboost_model.predict(X_train_encoded)\n",
    "y_pred_train_proba = catboost_model.predict_proba(X_train_encoded)[:, 1]\n",
    "\n",
    "# 학습 데이터 평가\n",
    "accuracy_train = accuracy_score(y_train, y_pred_train)\n",
    "roc_auc_train = roc_auc_score(y_train, y_pred_train_proba)\n",
    "\n",
    "print(f\"Train Accuracy: {accuracy_train:.4f}\")\n",
    "print(f\"Train ROC-AUC Score: {roc_auc_train:.4f}\")"
   ]
  },
  {
   "cell_type": "code",
   "execution_count": 1254,
   "metadata": {},
   "outputs": [],
   "source": [
    "# '''\n",
    "#  TODO : 교차 검증\n",
    "# '''\n",
    "# from sklearn.model_selection import cross_val_score, StratifiedKFold\n",
    "\n",
    "# # 교차 검증 설정 (Stratified K-Fold 사용)\n",
    "# cv = StratifiedKFold(n_splits=5, shuffle=True, random_state=42)\n",
    "\n",
    "# # 교차 검증 수행\n",
    "# cv_scores = cross_val_score(catboost_model, X_train, y_train, cv=cv, scoring='accuracy')\n",
    "\n",
    "# # 결과 출력\n",
    "# print(f\"Cross-validation Accuracy: {cv_scores.mean():.4f} ± {cv_scores.std():.4f}\")"
   ]
  },
  {
   "cell_type": "code",
   "execution_count": 1255,
   "metadata": {},
   "outputs": [
    {
     "name": "stdout",
     "output_type": "stream",
     "text": [
      "        Feature  Importance\n",
      "39     이식된 배아 수   81.998646\n",
      "1      시술 당시 나이    4.240211\n",
      "60    배아 이식 경과일    2.649777\n",
      "41     저장된 배아 수    1.807420\n",
      "36    총 생성 배아 수    1.074758\n",
      "45  수집된 신선 난자 수    0.729901\n",
      "0      시술 시기 코드    0.510227\n",
      "52    난자 기증자 나이    0.510068\n",
      "50        난자 출처    0.502550\n",
      "5      배란 유도 유형    0.409640\n",
      "               Feature  Importance\n",
      "54         동결 배아 사용 여부    0.008488\n",
      "9           남성 부 불임 원인    0.006133\n",
      "57              대리모 여부    0.005228\n",
      "23      불임 원인 - 정자 운동성    0.005145\n",
      "21       불임 원인 - 정자 농도    0.005003\n",
      "19     불임 원인 - 자궁경부 문제    0.001126\n",
      "22  불임 원인 - 정자 면역학적 요인    0.000010\n",
      "18       불임 원인 - 여성 요인    0.000000\n",
      "58           난자 채취 경과일    0.000000\n",
      "24       불임 원인 - 정자 형태    0.000000\n"
     ]
    }
   ],
   "source": [
    "# 특성 중요도 가져오기\n",
    "feature_importance = catboost_model.get_feature_importance()\n",
    "feature_names = X_train_encoded.columns\n",
    "\n",
    "# 중요도 시각화\n",
    "importance_df = pd.DataFrame({'Feature': feature_names, 'Importance': feature_importance})\n",
    "importance_df = importance_df.sort_values(by='Importance', ascending=False)\n",
    "\n",
    "print(importance_df.head(10)) \n",
    "print(importance_df.tail(10))"
   ]
  },
  {
   "cell_type": "code",
   "execution_count": 1256,
   "metadata": {},
   "outputs": [],
   "source": [
    "# '''\n",
    "#     TODO : ROC-AUC 곡선을 그리는 함수\n",
    "#          :param y_true: 실제 타겟 값 (0 또는 1)\n",
    "#          :param y_pred_proba: 모델이 예측한 양성 클래스(1)의 확률값\n",
    "# '''\n",
    "# import matplotlib.pyplot as plt\n",
    "# from sklearn.metrics import roc_curve, auc, roc_auc_score\n",
    "\n",
    "# def plot_roc_auc(y_true, y_pred_proba):\n",
    "#     # ROC 커브 계산\n",
    "#     fpr, tpr, _ = roc_curve(y_true, y_pred_proba)\n",
    "#     roc_auc = auc(fpr, tpr)  # AUC 값 계산\n",
    "\n",
    "#     # 그래프 그리기\n",
    "#     plt.figure(figsize=(6, 4))\n",
    "#     plt.plot(fpr, tpr, color='darkorange', lw=2, label=f'ROC curve (AUC = {roc_auc:.4f})')\n",
    "#     plt.plot([0, 1], [0, 1], color='navy', lw=2, linestyle='--')  # 랜덤 분류기 기준선\n",
    "#     plt.xlim([0.0, 1.0])\n",
    "#     plt.ylim([0.0, 1.05])\n",
    "#     plt.xlabel('False Positive Rate (FPR)')\n",
    "#     plt.ylabel('True Positive Rate (TPR)')\n",
    "#     plt.title('Receiver Operating Characteristic (ROC) Curve')\n",
    "#     plt.legend(loc='lower right')\n",
    "#     plt.grid()\n",
    "#     plt.show()\n",
    "\n",
    "# # 사용 예시\n",
    "# # 모델 예측 확률 (pred_proba 사용)\n",
    "# y_pred_proba = catboost_model.predict_proba(X_train_encoded)[:, 1]\n",
    "# print(f\"ROC-AUC Score : {roc_auc_score(y_train, y_pred_proba)}\")\n",
    "\n",
    "# # # ROC-AUC 그래프 출력\n",
    "# # plot_roc_auc(y_train, y_pred_proba)\n",
    "# # y_pred_proba = stacking_model.predict_proba(X_train)[:, 1]\n",
    "\n",
    "# # ROC-AUC 그래프 출력\n",
    "# plot_roc_auc(y_train, y_pred_proba)"
   ]
  },
  {
   "cell_type": "markdown",
   "metadata": {},
   "source": [
    "### Predict"
   ]
  },
  {
   "cell_type": "code",
   "execution_count": 20,
   "metadata": {},
   "outputs": [],
   "source": [
    "pred_proba = catboost_model.predict_proba(test_encoded)[:, 1]"
   ]
  },
  {
   "cell_type": "markdown",
   "metadata": {},
   "source": [
    "\n",
    "### Submission"
   ]
  },
  {
   "cell_type": "code",
   "execution_count": 21,
   "metadata": {},
   "outputs": [],
   "source": [
    "sample_submission = pd.read_csv('./sample_submission.csv')\n",
    "sample_submission['probability'] = pred_proba"
   ]
  },
  {
   "cell_type": "code",
   "execution_count": 22,
   "metadata": {},
   "outputs": [],
   "source": [
    "sample_submission.to_csv('./baseline_submit.csv', index=False)"
   ]
  },
  {
   "cell_type": "code",
   "execution_count": null,
   "metadata": {},
   "outputs": [],
   "source": []
  }
 ],
 "metadata": {
  "kernelspec": {
   "display_name": "Python 3",
   "language": "python",
   "name": "python3"
  },
  "language_info": {
   "codemirror_mode": {
    "name": "ipython",
    "version": 3
   },
   "file_extension": ".py",
   "mimetype": "text/x-python",
   "name": "python",
   "nbconvert_exporter": "python",
   "pygments_lexer": "ipython3",
   "version": "3.13.1"
  }
 },
 "nbformat": 4,
 "nbformat_minor": 2
}
